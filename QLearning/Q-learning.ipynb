{
 "cells": [
  {
   "cell_type": "code",
   "execution_count": 24,
   "id": "40926506",
   "metadata": {},
   "outputs": [],
   "source": [
    "import numpy as np\n",
    "import pandas as pd\n",
    "import time\n",
    "\n",
    "np.random.seed(2)"
   ]
  },
  {
   "cell_type": "code",
   "execution_count": 25,
   "id": "88adeb25",
   "metadata": {},
   "outputs": [],
   "source": [
    "N_STATES = 6 #寻宝路径的长度为6\n",
    "ACTIONS = ['left','right'] #可用动作\n",
    "EPSILON = 0.9 #贪婪度\n",
    "ALPHA = 0.1 #学习率\n",
    "GAMMA = 0.9 #奖励递减值\n",
    "MAX_EPISODES = 13 #最大回合数\n",
    "FRESH_TIME = 0.3 #移动时间间隔"
   ]
  },
  {
   "cell_type": "code",
   "execution_count": 26,
   "id": "9d167bfb",
   "metadata": {},
   "outputs": [],
   "source": [
    "def build_q_table(n_states,actions):\n",
    "    table = pd.DataFrame(np.zeros((n_states,len(actions))),\n",
    "                        columns=actions)\n",
    "    return table"
   ]
  },
  {
   "cell_type": "code",
   "execution_count": 27,
   "id": "d3c02d82",
   "metadata": {},
   "outputs": [],
   "source": [
    "def choose_action(state,q_table):\n",
    "    state_actions = q_table.iloc[state,:]\n",
    "    if (np.random.uniform() > EPSILON) or ((state_actions==0).all()):\n",
    "        action_name = np.random.choice(ACTIONS)\n",
    "    else:\n",
    "        action_name = state_actions.idxmax()\n",
    "    return action_name"
   ]
  },
  {
   "cell_type": "code",
   "execution_count": 28,
   "id": "6a8e1fc9",
   "metadata": {},
   "outputs": [],
   "source": [
    "def get_env_feedback(S,A):\n",
    "    if A == 'right':\n",
    "        if S == N_STATES - 2:\n",
    "            S_ = 'terminal'\n",
    "            R = 1\n",
    "        else:\n",
    "            S_ = S + 1\n",
    "            R = 0\n",
    "    else:\n",
    "        R = 0\n",
    "        if S == 0:\n",
    "            S_ = S\n",
    "        else:\n",
    "            S_ = S -1\n",
    "    return S_,R"
   ]
  },
  {
   "cell_type": "code",
   "execution_count": 29,
   "id": "540a58f8",
   "metadata": {},
   "outputs": [],
   "source": [
    "def update_env(S,episode,step_counter):\n",
    "    env_list = ['-'] * (N_STATES - 1) + ['T']\n",
    "    if S == 'terminal':\n",
    "        interaction = 'Episode %s: total_step = %s' % (episode + 1,step_counter)\n",
    "        print('\\r{}'.format(interaction),end='')\n",
    "        time.sleep(2)\n",
    "        print('\\r                                ', end='')\n",
    "    else:\n",
    "        env_list[S] = 'o'\n",
    "        interaction = ''.join(env_list)\n",
    "        print('\\r{}'.format(interaction),end='')\n",
    "        time.sleep(FRESH_TIME)"
   ]
  },
  {
   "cell_type": "code",
   "execution_count": 30,
   "id": "29384313",
   "metadata": {},
   "outputs": [],
   "source": [
    "def rl():\n",
    "    q_table = build_q_table(N_STATES,ACTIONS)\n",
    "    for episode in range(MAX_EPISODES):\n",
    "        step_counter = 0\n",
    "        S = 0\n",
    "        is_terminated = False\n",
    "        update_env(S,episode,step_counter)\n",
    "        while not is_terminated:\n",
    "            A = choose_action(S,q_table)\n",
    "            S_,R = get_env_feedback(S,A)\n",
    "            q_predict = q_table.loc[S,A]\n",
    "            if S_ != 'terminal':\n",
    "                q_target = R + GAMMA * q_table.iloc[S_,:].max()\n",
    "            else:\n",
    "                q_target = R\n",
    "                is_terminated = True\n",
    "                \n",
    "            q_table.loc[S,A] += ALPHA * (q_target - q_predict)\n",
    "            S = S_\n",
    "            update_env(S,episode,step_counter+1)\n",
    "            step_counter += 1\n",
    "    return q_table"
   ]
  },
  {
   "cell_type": "code",
   "execution_count": 31,
   "id": "e69e2a8f",
   "metadata": {},
   "outputs": [
    {
     "name": "stdout",
     "output_type": "stream",
     "text": [
      "                                \n",
      "Q-table:\n",
      "\n",
      "       left     right\n",
      "0  0.000000  0.004320\n",
      "1  0.000000  0.025005\n",
      "2  0.000030  0.111241\n",
      "3  0.000000  0.368750\n",
      "4  0.027621  0.745813\n",
      "5  0.000000  0.000000\n"
     ]
    }
   ],
   "source": [
    "q_table = rl()\n",
    "print('\\r\\nQ-table:\\n')\n",
    "print(q_table)"
   ]
  }
 ],
 "metadata": {
  "kernelspec": {
   "display_name": "Python 3 (ipykernel)",
   "language": "python",
   "name": "python3"
  },
  "language_info": {
   "codemirror_mode": {
    "name": "ipython",
    "version": 3
   },
   "file_extension": ".py",
   "mimetype": "text/x-python",
   "name": "python",
   "nbconvert_exporter": "python",
   "pygments_lexer": "ipython3",
   "version": "3.9.7"
  }
 },
 "nbformat": 4,
 "nbformat_minor": 5
}
