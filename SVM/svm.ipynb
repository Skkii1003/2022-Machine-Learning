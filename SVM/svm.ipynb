{
 "cells": [
  {
   "cell_type": "code",
   "execution_count": 10,
   "id": "9f6c2a4a",
   "metadata": {},
   "outputs": [],
   "source": [
    "import numpy as np\n",
    "import pandas as pd\n",
    "from sklearn.feature_extraction.text import CountVectorizer, TfidfTransformer\n",
    "from sklearn.metrics import confusion_matrix, precision_score, recall_score, roc_auc_score, roc_curve\n",
    "from sklearn.svm import LinearSVC\n",
    "import os"
   ]
  },
  {
   "cell_type": "code",
   "execution_count": 11,
   "id": "ccbf80e4",
   "metadata": {},
   "outputs": [],
   "source": [
    "def load_data(mail_dir):\n",
    "    files = []\n",
    "    labels = []\n",
    "    for dir in os.listdir(mail_dir):\n",
    "        subdir = os.path.join(mail_dir, dir)\n",
    "        if os.path.isdir(subdir):\n",
    "            for sub_sub_dir in os.listdir(subdir):\n",
    "                if sub_sub_dir == \"ham\":\n",
    "                    for fi in os.listdir(os.path.join(subdir, \"ham\")):\n",
    "                        files += [os.path.join(subdir, \"ham\", fi)]\n",
    "                        labels.append(1)\n",
    "                elif sub_sub_dir == \"spam\":\n",
    "                    for fi in os.listdir(os.path.join(subdir, \"spam\")):\n",
    "                        files += [os.path.join(subdir, \"spam\", fi)]\n",
    "                        labels.append(0)\n",
    "    test_matrix = np.ndarray((len(files)), dtype=object)\n",
    "    id = 0\n",
    "    for fil in files:\n",
    "        with open(fil, 'r', errors=\"ignore\") as fi:\n",
    "            next(fi)\n",
    "            data = fi.read().replace('\\n', ' ')\n",
    "            test_matrix[id] = data\n",
    "            id += 1\n",
    "    return test_matrix, labels"
   ]
  },
  {
   "cell_type": "code",
   "execution_count": 12,
   "id": "16020e64",
   "metadata": {},
   "outputs": [
    {
     "name": "stdout",
     "output_type": "stream",
     "text": [
      "train size:  22541\n",
      "test size:  6000\n",
      "result:\n",
      "          non-spam  spam\n",
      "non-spam      4470    30\n",
      "spam            61  1439\n",
      "precision score:  0.9795779441797141\n",
      "recall score:  0.9593333333333334\n"
     ]
    }
   ],
   "source": [
    "train_dir = \"./train\"\n",
    "train_matrix, train_labels = load_data(train_dir)\n",
    "print(\"train size: \", train_matrix.shape[0])\n",
    "\n",
    "count_v1 = CountVectorizer(stop_words=\"english\", max_df=0.5, decode_error=\"ignore\", binary=True)\n",
    "counts_train = count_v1.fit_transform(train_matrix)\n",
    "tf_idf_transformer = TfidfTransformer()\n",
    "tfidf_train = tf_idf_transformer.fit(counts_train).transform(counts_train)\n",
    "\n",
    "model = LinearSVC()\n",
    "model.fit(tfidf_train, train_labels)\n",
    "\n",
    "test_dir = \"./test\"\n",
    "test_matrix, test_labels = load_data(test_dir)\n",
    "print(\"test size: \", test_matrix.shape[0])\n",
    "\n",
    "count_v2 = CountVectorizer(vocabulary=count_v1.vocabulary_, stop_words=\"english\", max_df=0.5, decode_error=\"ignore\",\n",
    "                               binary=True)\n",
    "counts_test = count_v2.fit_transform(test_matrix)\n",
    "tfidf_test = tf_idf_transformer.fit(counts_test).transform(counts_test)\n",
    "\n",
    "result = model.predict(tfidf_test)\n",
    "cm = pd.DataFrame(\n",
    "    confusion_matrix(test_labels, result), index=[\"non-spam\", \"spam\"], columns=[\"non-spam\", \"spam\"]\n",
    ")\n",
    "\n",
    "print(\"result:\")\n",
    "print(cm)\n",
    "print(\"precision score: \", precision_score(test_labels, result))\n",
    "print(\"recall score: \", recall_score(test_labels, result))"
   ]
  },
  {
   "cell_type": "code",
   "execution_count": null,
   "id": "939738b3",
   "metadata": {},
   "outputs": [],
   "source": []
  }
 ],
 "metadata": {
  "kernelspec": {
   "display_name": "Python 3 (ipykernel)",
   "language": "python",
   "name": "python3"
  },
  "language_info": {
   "codemirror_mode": {
    "name": "ipython",
    "version": 3
   },
   "file_extension": ".py",
   "mimetype": "text/x-python",
   "name": "python",
   "nbconvert_exporter": "python",
   "pygments_lexer": "ipython3",
   "version": "3.9.7"
  }
 },
 "nbformat": 4,
 "nbformat_minor": 5
}
