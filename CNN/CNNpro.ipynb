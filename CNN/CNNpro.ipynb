{
 "cells": [
  {
   "cell_type": "code",
   "execution_count": 1,
   "id": "d50ed663",
   "metadata": {},
   "outputs": [],
   "source": [
    "from numpy import mean\n",
    "from numpy import std\n",
    "from matplotlib import pyplot\n",
    "from sklearn.model_selection import KFold\n",
    "import tensorflow as tf\n",
    "from tensorflow.keras import utils\n",
    "from tensorflow.keras.utils import to_categorical\n",
    "from tensorflow.keras.models import Sequential\n",
    "from tensorflow.keras.layers import Conv2D\n",
    "from tensorflow.keras.layers import MaxPooling2D\n",
    "from tensorflow.keras.layers import Dense\n",
    "from tensorflow.keras.layers import Flatten\n",
    "from tensorflow.keras.optimizers import SGD"
   ]
  },
  {
   "cell_type": "markdown",
   "id": "b2fc1520",
   "metadata": {},
   "source": [
    "载入数据"
   ]
  },
  {
   "cell_type": "code",
   "execution_count": 2,
   "id": "c6f74c36",
   "metadata": {},
   "outputs": [],
   "source": [
    "def load_dataset():\n",
    "    (x_train,y_train),(x_test,y_test)=tf.keras.datasets.mnist.load_data()\n",
    "    print('x_train shape',x_train.shape)\n",
    "    print('y_train shape',y_train.shape)\n",
    "    \n",
    "    #将样本数据转化为4维\n",
    "    x_train=x_train.reshape((x_train.shape[0],28,28,1))\n",
    "    x_test=x_test.reshape((x_test.shape[0],28,28,1))\n",
    "    \n",
    "    #标签数据转化为one-hot编码\n",
    "    y_train=to_categorical(y_train)\n",
    "    y_test=to_categorical(y_test)\n",
    "    \n",
    "    return x_train,y_train,x_test,y_test"
   ]
  },
  {
   "cell_type": "markdown",
   "id": "764d6cd6",
   "metadata": {},
   "source": [
    "数据预处理"
   ]
  },
  {
   "cell_type": "code",
   "execution_count": 3,
   "id": "14b3ff9a",
   "metadata": {},
   "outputs": [],
   "source": [
    "def prep_pixels(train,test):\n",
    "    train=train.astype('float32')\n",
    "    test=test.astype('float32')\n",
    "    train=train/255.0\n",
    "    test=test/255.0\n",
    "    return train,test"
   ]
  },
  {
   "cell_type": "markdown",
   "id": "2654f0ab",
   "metadata": {},
   "source": [
    "建立模型"
   ]
  },
  {
   "cell_type": "code",
   "execution_count": 4,
   "id": "2ec636d9",
   "metadata": {},
   "outputs": [],
   "source": [
    "def define_model():\n",
    "    model=Sequential()\n",
    "    model.add(Conv2D(8,(3,3),activation='relu',kernel_initializer='he_uniform',input_shape=(28,28,1)))\n",
    "    model.add(MaxPooling2D((2,2)))\n",
    "    \n",
    "    model.add(Flatten())\n",
    "    model.add(Dense(120,activation='relu',kernel_initializer='he_uniform'))\n",
    "    model.add(Dense(10,activation='softmax'))\n",
    "    \n",
    "    opt=SGD(learning_rate=0.01,momentum=0.9)\n",
    "    model.compile(optimizer=opt,loss='categorical_crossentropy',metrics=['accuracy'])\n",
    "    print(model.summary())\n",
    "    return model"
   ]
  },
  {
   "cell_type": "markdown",
   "id": "8f49391f",
   "metadata": {},
   "source": [
    "评估模型"
   ]
  },
  {
   "cell_type": "code",
   "execution_count": 5,
   "id": "4d673421",
   "metadata": {},
   "outputs": [],
   "source": [
    "def evaluate_model(dataX,dataY,n_folds=5):\n",
    "    scores,histories=list(),list()\n",
    "    kflod=KFold(n_folds,shuffle=True,random_state=1)\n",
    "    \n",
    "    for train_i,test_i in kflod.split(dataX):\n",
    "        model=define_model()\n",
    "        trainX,trainY,testX,testY=dataX[train_i],dataY[train_i],dataX[test_i],dataY[test_i]\n",
    "        history=model.fit(trainX,trainY,batch_size=60,epochs=10,verbose=0,validation_data=(testX,testY))\n",
    "        acc=model.evaluate(testX,testY,verbose=0)[1]\n",
    "        scores.append(acc)\n",
    "        histories.append(history)\n",
    "        \n",
    "    print(\"scores\",scores)\n",
    "    return scores,histories"
   ]
  },
  {
   "cell_type": "markdown",
   "id": "c0ef30fd",
   "metadata": {},
   "source": [
    "可视化"
   ]
  },
  {
   "cell_type": "code",
   "execution_count": 6,
   "id": "dda65dfc",
   "metadata": {},
   "outputs": [],
   "source": [
    "def summarize_diagnostics(histories):\n",
    "    for i in range(len(histories)):\n",
    "        pyplot.subplot(2,1,1)\n",
    "        pyplot.title('Cross Entropy Loss')\n",
    "        pyplot.plot(histories[i].history['loss'],color='blue',label='train')\n",
    "        pyplot.plot(histories[i].history['val_loss'],color='orange',label='test')\n",
    "        pyplot.ylabel('loss')\n",
    "        pyplot.xlabel('epoch')\n",
    "        pyplot.legend(['train','test'],loc='upper right')\n",
    "        \n",
    "        pyplot.subplot(2,1,2)\n",
    "        pyplot.title('Classification Accuracy')\n",
    "        pyplot.plot(histories[i].history['accuracy'],color='blue',label='train')\n",
    "        pyplot.plot(histories[i].history['val_accuracy'],color='orange',label='test')\n",
    "        pyplot.ylabel('accuracy')\n",
    "        pyplot.xlabel('epoch')\n",
    "        pyplot.legend(['train','test'],loc='upper right')\n",
    "    pyplot.show()"
   ]
  },
  {
   "cell_type": "code",
   "execution_count": 7,
   "id": "1665e1bb",
   "metadata": {},
   "outputs": [],
   "source": [
    "def summarize_performance(scores):\n",
    "    print('Accuracy: mean=%.3f std=%.3f,n=%d'% (mean(scores)*100,std(scores)*100,len(scores)))\n",
    "    pyplot.boxplot(scores)\n",
    "    pyplot.show()"
   ]
  },
  {
   "cell_type": "code",
   "execution_count": 8,
   "id": "43678d19",
   "metadata": {},
   "outputs": [
    {
     "name": "stdout",
     "output_type": "stream",
     "text": [
      "x_train shape (60000, 28, 28)\n",
      "y_train shape (60000,)\n",
      "Model: \"sequential\"\n",
      "_________________________________________________________________\n",
      " Layer (type)                Output Shape              Param #   \n",
      "=================================================================\n",
      " conv2d (Conv2D)             (None, 26, 26, 8)         80        \n",
      "                                                                 \n",
      " max_pooling2d (MaxPooling2D  (None, 13, 13, 8)        0         \n",
      " )                                                               \n",
      "                                                                 \n",
      " flatten (Flatten)           (None, 1352)              0         \n",
      "                                                                 \n",
      " dense (Dense)               (None, 120)               162360    \n",
      "                                                                 \n",
      " dense_1 (Dense)             (None, 10)                1210      \n",
      "                                                                 \n",
      "=================================================================\n",
      "Total params: 163,650\n",
      "Trainable params: 163,650\n",
      "Non-trainable params: 0\n",
      "_________________________________________________________________\n",
      "None\n",
      "Model: \"sequential_1\"\n",
      "_________________________________________________________________\n",
      " Layer (type)                Output Shape              Param #   \n",
      "=================================================================\n",
      " conv2d_1 (Conv2D)           (None, 26, 26, 8)         80        \n",
      "                                                                 \n",
      " max_pooling2d_1 (MaxPooling  (None, 13, 13, 8)        0         \n",
      " 2D)                                                             \n",
      "                                                                 \n",
      " flatten_1 (Flatten)         (None, 1352)              0         \n",
      "                                                                 \n",
      " dense_2 (Dense)             (None, 120)               162360    \n",
      "                                                                 \n",
      " dense_3 (Dense)             (None, 10)                1210      \n",
      "                                                                 \n",
      "=================================================================\n",
      "Total params: 163,650\n",
      "Trainable params: 163,650\n",
      "Non-trainable params: 0\n",
      "_________________________________________________________________\n",
      "None\n",
      "Model: \"sequential_2\"\n",
      "_________________________________________________________________\n",
      " Layer (type)                Output Shape              Param #   \n",
      "=================================================================\n",
      " conv2d_2 (Conv2D)           (None, 26, 26, 8)         80        \n",
      "                                                                 \n",
      " max_pooling2d_2 (MaxPooling  (None, 13, 13, 8)        0         \n",
      " 2D)                                                             \n",
      "                                                                 \n",
      " flatten_2 (Flatten)         (None, 1352)              0         \n",
      "                                                                 \n",
      " dense_4 (Dense)             (None, 120)               162360    \n",
      "                                                                 \n",
      " dense_5 (Dense)             (None, 10)                1210      \n",
      "                                                                 \n",
      "=================================================================\n",
      "Total params: 163,650\n",
      "Trainable params: 163,650\n",
      "Non-trainable params: 0\n",
      "_________________________________________________________________\n",
      "None\n",
      "Model: \"sequential_3\"\n",
      "_________________________________________________________________\n",
      " Layer (type)                Output Shape              Param #   \n",
      "=================================================================\n",
      " conv2d_3 (Conv2D)           (None, 26, 26, 8)         80        \n",
      "                                                                 \n",
      " max_pooling2d_3 (MaxPooling  (None, 13, 13, 8)        0         \n",
      " 2D)                                                             \n",
      "                                                                 \n",
      " flatten_3 (Flatten)         (None, 1352)              0         \n",
      "                                                                 \n",
      " dense_6 (Dense)             (None, 120)               162360    \n",
      "                                                                 \n",
      " dense_7 (Dense)             (None, 10)                1210      \n",
      "                                                                 \n",
      "=================================================================\n",
      "Total params: 163,650\n",
      "Trainable params: 163,650\n",
      "Non-trainable params: 0\n",
      "_________________________________________________________________\n",
      "None\n",
      "Model: \"sequential_4\"\n",
      "_________________________________________________________________\n",
      " Layer (type)                Output Shape              Param #   \n",
      "=================================================================\n",
      " conv2d_4 (Conv2D)           (None, 26, 26, 8)         80        \n",
      "                                                                 \n",
      " max_pooling2d_4 (MaxPooling  (None, 13, 13, 8)        0         \n",
      " 2D)                                                             \n",
      "                                                                 \n",
      " flatten_4 (Flatten)         (None, 1352)              0         \n",
      "                                                                 \n",
      " dense_8 (Dense)             (None, 120)               162360    \n",
      "                                                                 \n",
      " dense_9 (Dense)             (None, 10)                1210      \n",
      "                                                                 \n",
      "=================================================================\n",
      "Total params: 163,650\n",
      "Trainable params: 163,650\n",
      "Non-trainable params: 0\n",
      "_________________________________________________________________\n",
      "None\n",
      "scores [0.9826666712760925, 0.9831666946411133, 0.9802500009536743, 0.9868333339691162, 0.984499990940094]\n"
     ]
    },
    {
     "data": {
      "image/png": "[encoded data removed]",
      "text/plain": [
       "<Figure size 432x288 with 2 Axes>"
      ]
     },
     "metadata": {
      "needs_background": "light"
     },
     "output_type": "display_data"
    },
    {
     "name": "stdout",
     "output_type": "stream",
     "text": [
      "Accuracy: mean=98.348 std=0.217,n=5\n"
     ]
    },
    {
     "data": {
      "image/png": "[encoded data removed]",
      "text/plain": [
       "<Figure size 432x288 with 1 Axes>"
      ]
     },
     "metadata": {
      "needs_background": "light"
     },
     "output_type": "display_data"
    }
   ],
   "source": [
    "trainX,trainY,testX,testY=load_dataset()\n",
    "#print(trainX)\n",
    "trainX,testX=prep_pixels(trainX,testX)\n",
    "scores,histories=evaluate_model(trainX,trainY)\n",
    "summarize_diagnostics(histories)\n",
    "summarize_performance(scores)"
   ]
  },
  {
   "cell_type": "code",
   "execution_count": null,
   "id": "36e95cb4",
   "metadata": {},
   "outputs": [],
   "source": []
  }
 ],
 "metadata": {
  "kernelspec": {
   "display_name": "Python 3 (ipykernel)",
   "language": "python",
   "name": "python3"
  },
  "language_info": {
   "codemirror_mode": {
    "name": "ipython",
    "version": 3
   },
   "file_extension": ".py",
   "mimetype": "text/x-python",
   "name": "python",
   "nbconvert_exporter": "python",
   "pygments_lexer": "ipython3",
   "version": "3.9.7"
  }
 },
 "nbformat": 4,
 "nbformat_minor": 5
}
