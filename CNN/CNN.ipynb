{
 "cells": [
  {
   "cell_type": "code",
   "execution_count": 1,
   "id": "f42a4f15",
   "metadata": {},
   "outputs": [],
   "source": [
    "import numpy as np\n",
    "import tensorflow as tf\n",
    "from tensorflow.keras.models import Sequential\n",
    "from tensorflow.keras.layers import Dense\n",
    "from tensorflow.keras import utils\n",
    "import matplotlib.pyplot as plt"
   ]
  },
  {
   "cell_type": "code",
   "execution_count": 2,
   "id": "e65ea4fb",
   "metadata": {},
   "outputs": [],
   "source": [
    "(x_train,y_train),(x_test,y_test)=tf.keras.datasets.mnist.load_data()"
   ]
  },
  {
   "cell_type": "code",
   "execution_count": 3,
   "id": "bb3e290f",
   "metadata": {},
   "outputs": [],
   "source": [
    "num_pixels=x_train.shape[1] * x_train.shape[2]\n",
    "x_train=x_train.reshape((x_train.shape[0],num_pixels)).astype('float32')\n",
    "x_test=x_test.reshape((x_test.shape[0],num_pixels)).astype('float32')\n",
    "\n",
    "x_train=x_train/255\n",
    "x_test=x_test/255"
   ]
  },
  {
   "cell_type": "code",
   "execution_count": 4,
   "id": "ee4d36f9",
   "metadata": {},
   "outputs": [],
   "source": [
    "y_train=utils.to_categorical(y_train)\n",
    "y_test=utils.to_categorical(y_test)\n",
    "\n",
    "num_classes=y_test.shape[1]"
   ]
  },
  {
   "cell_type": "code",
   "execution_count": 5,
   "id": "b4b5e564",
   "metadata": {},
   "outputs": [],
   "source": [
    "def baseline_model():\n",
    "    #定义一个顺序模型\n",
    "    model=Sequential()\n",
    "    #配置一个隐藏层\n",
    "    model.add(Dense(100,input_dim=num_pixels,kernel_initializer='normal',activation='relu'))\n",
    "    #配置一个输出层\n",
    "    model.add(Dense(num_classes,kernel_initializer='normal',activation='softmax'))\n",
    "    #组装模型，指定损失函数、优化器、测量值\n",
    "    model.compile(loss='categorical_crossentropy',optimizer='adam',metrics=['accuracy'])\n",
    "    return model"
   ]
  },
  {
   "cell_type": "code",
   "execution_count": 7,
   "id": "45f7e715",
   "metadata": {},
   "outputs": [
    {
     "name": "stdout",
     "output_type": "stream",
     "text": [
      "Epoch 1/10\n",
      "600/600 - 1s - loss: 0.4170 - accuracy: 0.8888 - val_loss: 0.2143 - val_accuracy: 0.9383 - 845ms/epoch - 1ms/step\n",
      "Epoch 2/10\n",
      "600/600 - 1s - loss: 0.1866 - accuracy: 0.9466 - val_loss: 0.1538 - val_accuracy: 0.9556 - 582ms/epoch - 970us/step\n",
      "Epoch 3/10\n",
      "600/600 - 1s - loss: 0.1361 - accuracy: 0.9607 - val_loss: 0.1300 - val_accuracy: 0.9626 - 612ms/epoch - 1ms/step\n",
      "Epoch 4/10\n",
      "600/600 - 1s - loss: 0.1080 - accuracy: 0.9689 - val_loss: 0.1108 - val_accuracy: 0.9669 - 647ms/epoch - 1ms/step\n",
      "Epoch 5/10\n",
      "600/600 - 1s - loss: 0.0878 - accuracy: 0.9747 - val_loss: 0.0955 - val_accuracy: 0.9715 - 594ms/epoch - 990us/step\n",
      "Epoch 6/10\n",
      "600/600 - 1s - loss: 0.0735 - accuracy: 0.9784 - val_loss: 0.0964 - val_accuracy: 0.9703 - 641ms/epoch - 1ms/step\n",
      "Epoch 7/10\n",
      "600/600 - 1s - loss: 0.0623 - accuracy: 0.9822 - val_loss: 0.0885 - val_accuracy: 0.9727 - 693ms/epoch - 1ms/step\n",
      "Epoch 8/10\n",
      "600/600 - 1s - loss: 0.0538 - accuracy: 0.9840 - val_loss: 0.0841 - val_accuracy: 0.9748 - 624ms/epoch - 1ms/step\n",
      "Epoch 9/10\n",
      "600/600 - 1s - loss: 0.0452 - accuracy: 0.9872 - val_loss: 0.0842 - val_accuracy: 0.9748 - 594ms/epoch - 989us/step\n",
      "Epoch 10/10\n",
      "600/600 - 1s - loss: 0.0390 - accuracy: 0.9891 - val_loss: 0.0848 - val_accuracy: 0.9740 - 653ms/epoch - 1ms/step\n",
      "scores [0.0848468765616417, 0.9739999771118164]\n"
     ]
    }
   ],
   "source": [
    "model=baseline_model()\n",
    "#开始学习，fit是学习函数\n",
    "model.fit(x_train,y_train,validation_data=(x_test,y_test),epochs=10,batch_size=100,verbose=2)\n",
    "scores=model.evaluate(x_test,y_test,verbose=0)\n",
    "print(\"scores\",scores)"
   ]
  },
  {
   "cell_type": "code",
   "execution_count": null,
   "id": "e2b8d85b",
   "metadata": {},
   "outputs": [],
   "source": []
  }
 ],
 "metadata": {
  "kernelspec": {
   "display_name": "Python 3 (ipykernel)",
   "language": "python",
   "name": "python3"
  },
  "language_info": {
   "codemirror_mode": {
    "name": "ipython",
    "version": 3
   },
   "file_extension": ".py",
   "mimetype": "text/x-python",
   "name": "python",
   "nbconvert_exporter": "python",
   "pygments_lexer": "ipython3",
   "version": "3.9.7"
  }
 },
 "nbformat": 4,
 "nbformat_minor": 5
}
