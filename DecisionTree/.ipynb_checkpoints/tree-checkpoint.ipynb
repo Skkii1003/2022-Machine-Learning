{
 "cells": [
  {
   "cell_type": "code",
   "execution_count": 1,
   "id": "2aa02211",
   "metadata": {},
   "outputs": [],
   "source": [
    "from math import log\n",
    "import operator"
   ]
  },
  {
   "cell_type": "code",
   "execution_count": 2,
   "id": "e75104e6",
   "metadata": {},
   "outputs": [],
   "source": [
    "#计算香浓熵\n",
    "def calShannon(dataset):\n",
    "    size = len(dataset)\n",
    "    label={}\n",
    "    for feature in dataset:\n",
    "        current_label=feature[-1]\n",
    "        if current_label not in label.keys():\n",
    "            label[current_label]=0\n",
    "            \n",
    "        label[current_label] +=1\n",
    "        \n",
    "    shannon=0.0\n",
    "    for key in label:\n",
    "        probability=float(label[key])/size\n",
    "        shannon -= probability * log(probability,2)\n",
    "    return shannon"
   ]
  },
  {
   "cell_type": "code",
   "execution_count": 3,
   "id": "d8c12660",
   "metadata": {},
   "outputs": [],
   "source": [
    "#创建数据集和标签集\n",
    "def createDataset():\n",
    "    dataset=[\n",
    "        [1,1,'yes'],\n",
    "        [1,1,'yes'],\n",
    "        [1,0,'no'],\n",
    "        [0,1,'no'],\n",
    "        [0,1,'no']\n",
    "    ]\n",
    "    labels=['no surfacing','flippers']\n",
    "    return dataset,labels"
   ]
  },
  {
   "cell_type": "code",
   "execution_count": 4,
   "id": "836de9b4",
   "metadata": {},
   "outputs": [],
   "source": [
    "#按照给定特征axis，划分数据集\n",
    "def splitDataset(dataset,axis,value):\n",
    "    res = []\n",
    "    for feature in dataset:\n",
    "        if feature[axis] == value:\n",
    "            reduce_feature = feature[:axis]\n",
    "            reduce_feature.extend(feature[axis+1:])\n",
    "            res.append(reduce_feature)\n",
    "    return res"
   ]
  },
  {
   "cell_type": "code",
   "execution_count": 5,
   "id": "1676b653",
   "metadata": {},
   "outputs": [],
   "source": [
    "#选择最好的数据集划分方式\n",
    "def chooseBestSplit(dataset):\n",
    "    num_features = len(dataset[0])-1\n",
    "    base = calShannon(dataset)\n",
    "    best_info_gain = 0.0\n",
    "    best_feature = -1\n",
    "    for i in range(num_features):\n",
    "        feature_list = [example[i] for example in dataset]\n",
    "        unique_vals = set(feature_list)\n",
    "        new = 0.0\n",
    "        for value in unique_vals:\n",
    "            sub_dataset = splitDataset(dataset,i,value)\n",
    "            probability = len(sub_dataset)/float(len(dataset))\n",
    "            new += probability * calShannon(sub_dataset)\n",
    "        info_gain = base-new\n",
    "        if info_gain > best_info_gain:\n",
    "            best_info_gain = info_gain\n",
    "            best_feature = i\n",
    "            \n",
    "    return best_feature"
   ]
  },
  {
   "cell_type": "code",
   "execution_count": 6,
   "id": "589d28d7",
   "metadata": {},
   "outputs": [],
   "source": [
    "#多数表决器\n",
    "def majority(classList):\n",
    "    classes = {}\n",
    "    for vote in classList:\n",
    "        if vote not in classes.keys():\n",
    "            classes[vote]=0\n",
    "            \n",
    "        classes[vote] += 1\n",
    "    sort = sorted(classes.items(),key=operator.itemgetter(1),reverse=True)\n",
    "    return sort[0][0]"
   ]
  },
  {
   "cell_type": "code",
   "execution_count": 20,
   "id": "1c5873a9",
   "metadata": {},
   "outputs": [],
   "source": [
    "#创建树\n",
    "def createTree(dataset,labels):\n",
    "    classList=[example[-1] for example in dataset]\n",
    "    if classList.count(classList[0]) == len(classList):\n",
    "        return classList[0]\n",
    "    if len(dataset[0]) == 1:\n",
    "        return majority(classList)\n",
    "    best_feature = chooseBestSplit(dataset)\n",
    "    label = labels[best_feature]\n",
    "    tree = {label:{}}\n",
    "    del(labels[best_feature])\n",
    "    feature_values = [example[best_feature] for example in dataset]\n",
    "    unique_vals = set(feature_values)\n",
    "    for value in unique_vals:\n",
    "        sub_labels=labels[:]\n",
    "        tree[label][value]=createTree(splitDataset(dataset,best_feature,value),sub_labels)\n",
    "    return tree"
   ]
  },
  {
   "cell_type": "code",
   "execution_count": 21,
   "id": "99e4deb5",
   "metadata": {},
   "outputs": [],
   "source": [
    "#使用决策树的分类函数\n",
    "def classify(tree,labels,test):\n",
    "    first = list(tree.keys())[0]\n",
    "    second = tree[first]\n",
    "    index = labels.index(first)\n",
    "    class_label = {}\n",
    "    for key in second.keys():\n",
    "        if test[index] == key:\n",
    "            if type(second[key]).__name__ == 'dict':\n",
    "                class_label = classify(second[key],labels,test)\n",
    "            else:\n",
    "                class_label = second[key]\n",
    "    return class_label"
   ]
  },
  {
   "cell_type": "code",
   "execution_count": 22,
   "id": "c6f5d096",
   "metadata": {},
   "outputs": [],
   "source": [
    "#使用pickle存储决策树\n",
    "def storeTree(tree,filename):\n",
    "    import pickle\n",
    "    f = open(filename,'wb')\n",
    "    pickle.dump(tree,f)\n",
    "    f.close()"
   ]
  },
  {
   "cell_type": "code",
   "execution_count": 23,
   "id": "e6b94e78",
   "metadata": {},
   "outputs": [],
   "source": [
    "#读出决策树结构\n",
    "def grabTree(filename):\n",
    "    import pickle\n",
    "    f = open(filename,'rb')\n",
    "    return pickle.load(f)"
   ]
  },
  {
   "cell_type": "code",
   "execution_count": 24,
   "id": "33c9225c",
   "metadata": {},
   "outputs": [],
   "source": [
    "import matplotlib.pyplot as plt\n",
    "decisionNode = dict(boxstyle=\"sawtooth\",fc=\"0.8\")\n",
    "leafNode = dict(boxstyle=\"round4\",fc=\"0.8\")\n",
    "arrow_args = dict(arrowstyle=\"<-\")"
   ]
  },
  {
   "cell_type": "code",
   "execution_count": 40,
   "id": "da01fa71",
   "metadata": {},
   "outputs": [],
   "source": [
    "#绘制带箭头的注解\n",
    "def plotNode(node,center,parent,type):\n",
    "    createPlot.axl.annotate(node,xy=parent,xycoords=\"axes fraction\",\n",
    "                           xytext=center,textcoords=\"axes fraction\",va=\"center\",\n",
    "                           ha=\"center\",bbox=type,arrowprops=arrow_args)"
   ]
  },
  {
   "cell_type": "code",
   "execution_count": 41,
   "id": "f658e7a4",
   "metadata": {},
   "outputs": [],
   "source": [
    "#获取决策树的叶节点数目\n",
    "def getLeaves(tree):\n",
    "    num_leaves = 0\n",
    "    first = list(tree.keys())[0]\n",
    "    second = tree[first]\n",
    "    for key in second.keys():\n",
    "        if type(second[key]).__name__ == 'dict' :\n",
    "            num_leaves += getLeaves(second[key])\n",
    "        else:\n",
    "            num_leaves += 1\n",
    "    return num_leaves\n"
   ]
  },
  {
   "cell_type": "code",
   "execution_count": 42,
   "id": "2321c632",
   "metadata": {},
   "outputs": [],
   "source": [
    "#获得决策树的深度\n",
    "def getDepth(tree):\n",
    "    depth = 0\n",
    "    first = list(tree.keys())[0]\n",
    "    second = tree[first]\n",
    "    for key in second.keys():\n",
    "        if type(second[key]).__name__ == 'dict' :\n",
    "            tmp = 1 + getDepth(second[key])\n",
    "        else:\n",
    "            tmp = 1\n",
    "        if tmp > depth:\n",
    "            depth = tmp\n",
    "    return depth"
   ]
  },
  {
   "cell_type": "code",
   "execution_count": 43,
   "id": "56c00cb3",
   "metadata": {},
   "outputs": [],
   "source": [
    "#定义树结构，测试树结构函数\n",
    "def retriveTree(i):\n",
    "    treeList = [\n",
    "                {'no surfacing': \n",
    "                {0: 'no', 1: {'flippers':\n",
    "                {0: 'no', 1: 'yes'}}}},\n",
    "                {'no surfacing': {0: 'no', 1: {'flippers':\n",
    "                {0: {'head': {0: 'no', 1: 'yes'}}, 1: 'no'}}}}\n",
    "                ]\n",
    "    return treeList[i]"
   ]
  },
  {
   "cell_type": "code",
   "execution_count": 44,
   "id": "1c6914d4",
   "metadata": {},
   "outputs": [],
   "source": [
    "#计算父节点和自节点的中间位置，并添加文本标签信息\n",
    "def addText(center,parent,text):\n",
    "    x_mid=(parent[0]-center[0])/2.0 + center[0]\n",
    "    y_mid=(parent[1]-center[1])/2.0 + center[1]\n",
    "    createPlot.axl.text(x_mid,y_mid,text)"
   ]
  },
  {
   "cell_type": "code",
   "execution_count": 48,
   "id": "eeca577f",
   "metadata": {
    "scrolled": true
   },
   "outputs": [],
   "source": [
    "def plotTree(tree,parent,text):\n",
    "    num_leaves = getLeaves(tree)\n",
    "    depth = getDepth(tree)\n",
    "    first = list(tree.keys())[0]\n",
    "    center = (plotTree.xoff + (1.0+float(num_leaves))/2.0/plotTree.totalW,plotTree.yoff)\n",
    "    addText(center,parent,text)\n",
    "    plotNode(first,center,parent,decisionNode)\n",
    "    second = tree[first]\n",
    "    plotTree.yoff = plotTree.yoff - 1.0/plotTree.totalD\n",
    "    for key in second.keys():\n",
    "        if type(second[key]).__name__ == 'dict':\n",
    "            plotTree(second[key],center,str(key))\n",
    "        else:\n",
    "            plotTree.xoff = plotTree.xoff + 1.0/plotTree.totalW\n",
    "            plotNode(second[key],(plotTree.xoff,plotTree.yoff),\n",
    "                    center,leafNode)\n",
    "            addText((plotTree.xoff,plotTree.yoff),center,str(key))\n",
    "    plotTree.yoff = plotTree.yoff + 1.0/plotTree.totalD"
   ]
  },
  {
   "cell_type": "code",
   "execution_count": 49,
   "id": "bc89eac4",
   "metadata": {},
   "outputs": [],
   "source": [
    "def createPlot(tree):\n",
    "    fig = plt.figure(1,facecolor=\"white\")\n",
    "    fig.clf()\n",
    "    axprops = dict(xticks=[],yticks=[])\n",
    "    createPlot.axl = plt.subplot(111,frameon=False,**axprops)\n",
    "    plotTree.totalW = float(getLeaves(tree))\n",
    "    plotTree.totalD = float(getDepth(tree))\n",
    "    plotTree.xoff = -0.5/plotTree.totalW\n",
    "    plotTree.yoff = 1.0\n",
    "    plotTree(tree, (0.5, 1.0), '')\n",
    "    plt.show()"
   ]
  },
  {
   "cell_type": "code",
   "execution_count": 50,
   "id": "47e2d222",
   "metadata": {},
   "outputs": [
    {
     "data": {
      "image/png": "[encoded data removed]",
      "text/plain": [
       "<Figure size 432x288 with 1 Axes>"
      ]
     },
     "metadata": {},
     "output_type": "display_data"
    }
   ],
   "source": [
    "f = open('lenses.txt')\n",
    "lenses = [inst.strip().split('\\t') for inst in f.readlines()]\n",
    "labels = ['age','prescript','astigmatic','tearRate']\n",
    "tree = createTree(lenses,labels)\n",
    "createPlot(tree)"
   ]
  },
  {
   "cell_type": "code",
   "execution_count": null,
   "id": "7d115e8d",
   "metadata": {},
   "outputs": [],
   "source": []
  }
 ],
 "metadata": {
  "kernelspec": {
   "display_name": "Python 3 (ipykernel)",
   "language": "python",
   "name": "python3"
  },
  "language_info": {
   "codemirror_mode": {
    "name": "ipython",
    "version": 3
   },
   "file_extension": ".py",
   "mimetype": "text/x-python",
   "name": "python",
   "nbconvert_exporter": "python",
   "pygments_lexer": "ipython3",
   "version": "3.9.7"
  }
 },
 "nbformat": 4,
 "nbformat_minor": 5
}
